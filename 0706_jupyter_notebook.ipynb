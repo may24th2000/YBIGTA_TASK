{
  "nbformat": 4,
  "nbformat_minor": 0,
  "metadata": {
    "colab": {
      "provenance": []
    },
    "kernelspec": {
      "name": "python3",
      "display_name": "Python 3"
    },
    "language_info": {
      "name": "python"
    }
  },
  "cells": [
    {
      "cell_type": "markdown",
      "source": [
        "## YBIGTA 23기 임종혁"
      ],
      "metadata": {
        "id": "f_696-Wri6yO"
      }
    },
    {
      "cell_type": "markdown",
      "source": [
        "## 과제 1"
      ],
      "metadata": {
        "id": "xtlATF7qhF15"
      }
    },
    {
      "cell_type": "code",
      "execution_count": null,
      "metadata": {
        "id": "_rAHJDRVg8w3"
      },
      "outputs": [],
      "source": [
        "def sort(tup):\n",
        "    if not isinstance(tup, tuple):\n",
        "        raise TypeError(\"tuple을 넣어주세요\")\n",
        "\n",
        "    def partition(arr, low, high):\n",
        "        i = low - 1\n",
        "        pivot = arr[high]\n",
        "\n",
        "        for j in range(low, high):\n",
        "            if arr[j] <= pivot:\n",
        "                i = i + 1\n",
        "                arr[i], arr[j] = arr[j], arr[i]\n",
        "\n",
        "        arr[i + 1], arr[high] = arr[high], arr[i + 1]\n",
        "        return i + 1\n",
        "\n",
        "    def quicksort(arr, low, high):\n",
        "        if low < high:\n",
        "            pi = partition(arr, low, high)\n",
        "            quicksort(arr, low, pi - 1)\n",
        "            quicksort(arr, pi + 1, high)\n",
        "\n",
        "    # 튜플을 리스트로 변환하여 정렬\n",
        "    lst = list(tup)\n",
        "    n = len(lst)\n",
        "    quicksort(lst, 0, n - 1)\n",
        "    return lst"
      ]
    },
    {
      "cell_type": "code",
      "source": [
        "#결과 확인\n",
        "tup = (8, 9, 1, 3, 11)\n",
        "print(sort(tup))"
      ],
      "metadata": {
        "colab": {
          "base_uri": "https://localhost:8080/"
        },
        "id": "ZKKC80v8i4V4",
        "outputId": "d48ca12c-85bb-447c-dd2c-c09fb7f81a96"
      },
      "execution_count": null,
      "outputs": [
        {
          "output_type": "stream",
          "name": "stdout",
          "text": [
            "[1, 3, 8, 9, 11]\n"
          ]
        }
      ]
    },
    {
      "cell_type": "markdown",
      "source": [
        "## 과제 2"
      ],
      "metadata": {
        "id": "1a8KhdO2jYUW"
      }
    },
    {
      "cell_type": "code",
      "source": [
        "from math import sqrt\n",
        "\n",
        "class Point:\n",
        "    def __init__(self, x, y):\n",
        "        if not isinstance(x, int) or not isinstance(y, int):\n",
        "            raise TypeError(\"x와 y는 정수\")\n",
        "        self.x = x\n",
        "        self.y = y\n",
        "\n",
        "    def set_position(self, x, y):\n",
        "        if not isinstance(x, int) or not isinstance(y, int):\n",
        "            raise TypeError(\"x와 y는 정수\")\n",
        "        self.x = x\n",
        "        self.y = y\n",
        "\n",
        "    def get_position(self):\n",
        "        return self.x, self.y\n",
        "\n",
        "    def get_dist(self, other):\n",
        "        if not isinstance(other, Point):\n",
        "            raise TypeError(\"다른 Point 인스턴스를 입력\")\n",
        "        dx = self.x - other.x\n",
        "        dy = self.y - other.y\n",
        "        return sqrt(dx ** 2 + dy ** 2)\n",
        "\n",
        "    def __str__(self):\n",
        "        return f\"Point(x: {self.x}, y: {self.y})\"\n",
        "\n",
        "# p1의 x와 y 값 입력\n",
        "x1 = int(input(\"p1의 x값 입력: \"))\n",
        "y1 = int(input(\"p1의 y값 입력: \"))\n",
        "p1 = Point(x1, y1)\n",
        "\n",
        "print('')\n",
        "print(p1.get_position())\n",
        "print('')\n",
        "print('-'*30)\n",
        "print('')\n",
        "\n",
        "# p1의 x와 y 값 입력\n",
        "x1 = int(input(\"p1의 x값 입력: \"))\n",
        "y1 = int(input(\"p1의 y값 입력: \"))\n",
        "p1 = Point(x1, y1)\n",
        "\n",
        "# p2의 x와 y 값 입력\n",
        "x2 = int(input(\"p2의 x값 입력: \"))\n",
        "y2 = int(input(\"p2의 y값 입력: \"))\n",
        "p2 = Point(x2, y2)\n",
        "\n",
        "print('')\n",
        "print(p1.get_position())\n",
        "print(p2.get_position())\n",
        "print('')\n",
        "print(p1.get_dist(p2))\n",
        "print('')\n",
        "print(p1)\n",
        "print(p2)"
      ],
      "metadata": {
        "colab": {
          "base_uri": "https://localhost:8080/"
        },
        "id": "NXLqgmUHjU-P",
        "outputId": "aed8943c-ecfb-44a7-d537-ffc9ddc7cc15"
      },
      "execution_count": null,
      "outputs": [
        {
          "output_type": "stream",
          "name": "stdout",
          "text": [
            "p1의 x값 입력: 1\n",
            "p1의 y값 입력: 2\n",
            "\n",
            "(1, 2)\n",
            "\n",
            "------------------------------\n",
            "\n",
            "p1의 x값 입력: 10\n",
            "p1의 y값 입력: 20\n",
            "p2의 x값 입력: 3\n",
            "p2의 y값 입력: 4\n",
            "\n",
            "(10, 20)\n",
            "(3, 4)\n",
            "\n",
            "17.46424919657298\n",
            "\n",
            "Point(x: 10, y: 20)\n",
            "Point(x: 3, y: 4)\n"
          ]
        }
      ]
    }
  ]
}