{
  "cells": [
    {
      "cell_type": "markdown",
      "metadata": {
        "id": "4sSY3DjNbPEa"
      },
      "source": [
        "### 필요 Package download"
      ]
    },
    {
      "cell_type": "code",
      "execution_count": 1,
      "metadata": {
        "id": "PK3bVKuBcbZ6"
      },
      "outputs": [],
      "source": [
        "import torch\n",
        "import torchvision\n",
        "import torchvision.transforms as transforms"
      ]
    },
    {
      "cell_type": "code",
      "source": [
        "device = torch.device('cuda' if torch.cuda.is_available() else 'cpu')\n",
        "\n",
        "# 현재 gpu를 사용중이면 cuda로 출력됩니다!:\n",
        "# gpu 변경은 런타임 -> 런타임 유형변경 -> 하드웨어 가속기: GPU로 할 수 있습니다.\n",
        "\n",
        "print(device)"
      ],
      "metadata": {
        "colab": {
          "base_uri": "https://localhost:8080/"
        },
        "id": "B7Jp6DQLn3sz",
        "outputId": "00e71dce-cf62-4aae-cbaa-89744b60b9db"
      },
      "execution_count": 2,
      "outputs": [
        {
          "output_type": "stream",
          "name": "stdout",
          "text": [
            "cuda\n"
          ]
        }
      ]
    },
    {
      "cell_type": "markdown",
      "source": [
        "## 데이터 부연설명\n",
        "* 저희가 사용할 dataset은 cifar-10이라는 이름을 가진, 컬러 이미지 데이터 60,000개가 들어있는\n",
        "dataset입니다. <br>\n",
        "* 해당 dataset은 총 10개의 class로 나누어져 있으며, 이 task는 각 이미지에 대한 class의 분류 accuracy를 높이는 것이 목적입니다."
      ],
      "metadata": {
        "id": "W9v_beLpA34L"
      }
    },
    {
      "cell_type": "markdown",
      "source": [
        "### Data Normalize & DataLoader Settting"
      ],
      "metadata": {
        "id": "Z8e8Z-lhhxZ7"
      }
    },
    {
      "cell_type": "code",
      "execution_count": 3,
      "metadata": {
        "colab": {
          "base_uri": "https://localhost:8080/"
        },
        "id": "itmleb14cdyh",
        "outputId": "80be4ad3-bdbc-4811-e749-209849fe8b4b"
      },
      "outputs": [
        {
          "output_type": "stream",
          "name": "stdout",
          "text": [
            "Downloading https://www.cs.toronto.edu/~kriz/cifar-10-python.tar.gz to ./data/cifar-10-python.tar.gz\n"
          ]
        },
        {
          "output_type": "stream",
          "name": "stderr",
          "text": [
            "100%|██████████| 170498071/170498071 [00:20<00:00, 8271790.61it/s]\n"
          ]
        },
        {
          "output_type": "stream",
          "name": "stdout",
          "text": [
            "Extracting ./data/cifar-10-python.tar.gz to ./data\n",
            "Files already downloaded and verified\n"
          ]
        }
      ],
      "source": [
        "transform = transforms.Compose(\n",
        "    [transforms.ToTensor(),\n",
        "     transforms.Normalize((0.5, 0.5, 0.5), (0.5, 0.5, 0.5))])\n",
        "\n",
        "trainset = torchvision.datasets.CIFAR10(root='./data', train=True,\n",
        "                                        download=True, transform=transform)\n",
        "trainloader = torch.utils.data.DataLoader(trainset, batch_size=4,\n",
        "                                          shuffle=True, num_workers=2)\n",
        "\n",
        "testset = torchvision.datasets.CIFAR10(root='./data', train=False,\n",
        "                                       download=True, transform=transform)\n",
        "testloader = torch.utils.data.DataLoader(testset, batch_size=4,\n",
        "                                         shuffle=False, num_workers=2)\n",
        "\n",
        "classes = ('plane', 'car', 'bird', 'cat',\n",
        "           'deer', 'dog', 'frog', 'horse', 'ship', 'truck')"
      ]
    },
    {
      "cell_type": "code",
      "execution_count": 4,
      "metadata": {
        "colab": {
          "base_uri": "https://localhost:8080/",
          "height": 211
        },
        "id": "ViOCagdocmEt",
        "outputId": "8979bf36-3e14-4398-f830-29555a74e911"
      },
      "outputs": [
        {
          "output_type": "stream",
          "name": "stdout",
          "text": [
            " bird horse plane  frog\n"
          ]
        },
        {
          "output_type": "display_data",
          "data": {
            "text/plain": [
              "<Figure size 640x480 with 1 Axes>"
            ],
            "image/png": "[encoded data removed]"
          },
          "metadata": {}
        }
      ],
      "source": [
        "import matplotlib.pyplot as plt\n",
        "import numpy as np\n",
        "\n",
        "# 이미지를 보여주기 위한 함수\n",
        "\n",
        "\n",
        "def imshow(img):\n",
        "    img = img / 2 + 0.5     # 표준화 해제\n",
        "    npimg = img.numpy()\n",
        "    plt.imshow(np.transpose(npimg, (1, 2, 0)))\n",
        "\n",
        "\n",
        "# 학습용 이미지를 무작위로 가져오기\n",
        "dataiter = iter(trainloader)\n",
        "images, labels = dataiter.__next__()\n",
        "\n",
        "# 이미지 보여주기\n",
        "imshow(torchvision.utils.make_grid(images))\n",
        "# 정답(label) 출력\n",
        "print(' '.join('%5s' % classes[labels[j]] for j in range(4)))\n",
        "plt.show()"
      ]
    },
    {
      "cell_type": "code",
      "execution_count": 8,
      "metadata": {
        "id": "TQsfjGTWcm-i"
      },
      "outputs": [],
      "source": [
        "import torch.nn as nn\n",
        "import torch.nn.functional as F\n",
        "import torch.optim as optim\n",
        "\n",
        "class Net(nn.Module):\n",
        "    def __init__(self):\n",
        "        super(Net, self).__init__()\n",
        "        self.conv1 = nn.Conv2d(3, 6, 5)  # input channels, output channels, kernel size\n",
        "        self.pool = nn.MaxPool2d(2, 2)   # kernel size, stride, padding = 0 (default)\n",
        "        self.conv2 = nn.Conv2d(6, 16, 5)\n",
        "        self.fc1 = nn.Linear(16 * 5 * 5, 400)  # input features, output features (flattened after conv2)\n",
        "        self.fc2 = nn.Linear(400, 84)          # 84 output features for fc2\n",
        "        self.fc3 = nn.Linear(84, 10)           # 10 output features for fc3 (CIFAR-10 has 10 classes)\n",
        "\n",
        "    def forward(self, x):\n",
        "        x = self.pool(F.relu(self.conv1(x)))\n",
        "        x = self.pool(F.relu(self.conv2(x)))\n",
        "        x = x.view(-1, 16 * 5 * 5)\n",
        "\n",
        "        x = F.relu(self.fc1(x))\n",
        "        x = F.relu(self.fc2(x))\n",
        "        x = self.fc3(x)\n",
        "        return x\n",
        "\n",
        "# 모델의 인스턴스 생성\n",
        "net = Net()"
      ]
    },
    {
      "cell_type": "code",
      "execution_count": 9,
      "metadata": {
        "id": "HmJhscg1dIhs"
      },
      "outputs": [],
      "source": [
        "import torch.optim as optim\n",
        "\n",
        "# optimizer 변경과 다른 하이퍼파라미터 조정\n",
        "criterion = nn.CrossEntropyLoss()\n",
        "optimizer = optim.Adam(net.parameters(), lr=0.0001, betas=(0.9, 0.999))"
      ]
    },
    {
      "cell_type": "code",
      "execution_count": 11,
      "metadata": {
        "colab": {
          "base_uri": "https://localhost:8080/"
        },
        "id": "wpAa24bGdT3_",
        "outputId": "dd5220c1-12c5-428c-962c-3354837c0c45"
      },
      "outputs": [
        {
          "output_type": "stream",
          "name": "stdout",
          "text": [
            "[1,  1000] loss: 1.698\n",
            "[1,  2000] loss: 1.668\n",
            "[1,  3000] loss: 1.636\n",
            "[1,  4000] loss: 1.610\n",
            "[1,  5000] loss: 1.611\n",
            "[1,  6000] loss: 1.558\n",
            "[1,  7000] loss: 1.551\n",
            "[1,  8000] loss: 1.568\n",
            "[1,  9000] loss: 1.534\n",
            "[1, 10000] loss: 1.528\n",
            "[1, 11000] loss: 1.499\n",
            "[1, 12000] loss: 1.476\n",
            "[2,  1000] loss: 1.439\n",
            "[2,  2000] loss: 1.455\n",
            "[2,  3000] loss: 1.441\n",
            "[2,  4000] loss: 1.447\n",
            "[2,  5000] loss: 1.406\n",
            "[2,  6000] loss: 1.411\n",
            "[2,  7000] loss: 1.408\n",
            "[2,  8000] loss: 1.397\n",
            "[2,  9000] loss: 1.391\n",
            "[2, 10000] loss: 1.377\n",
            "[2, 11000] loss: 1.356\n",
            "[2, 12000] loss: 1.364\n",
            "[3,  1000] loss: 1.333\n",
            "[3,  2000] loss: 1.310\n",
            "[3,  3000] loss: 1.294\n",
            "[3,  4000] loss: 1.296\n",
            "[3,  5000] loss: 1.297\n",
            "[3,  6000] loss: 1.303\n",
            "[3,  7000] loss: 1.308\n",
            "[3,  8000] loss: 1.322\n",
            "[3,  9000] loss: 1.284\n",
            "[3, 10000] loss: 1.266\n",
            "[3, 11000] loss: 1.271\n",
            "[3, 12000] loss: 1.254\n",
            "[4,  1000] loss: 1.221\n",
            "[4,  2000] loss: 1.206\n",
            "[4,  3000] loss: 1.241\n",
            "[4,  4000] loss: 1.214\n",
            "[4,  5000] loss: 1.174\n",
            "[4,  6000] loss: 1.227\n",
            "[4,  7000] loss: 1.200\n",
            "[4,  8000] loss: 1.189\n",
            "[4,  9000] loss: 1.197\n",
            "[4, 10000] loss: 1.224\n",
            "[4, 11000] loss: 1.192\n",
            "[4, 12000] loss: 1.196\n",
            "[5,  1000] loss: 1.148\n",
            "[5,  2000] loss: 1.147\n",
            "[5,  3000] loss: 1.139\n",
            "[5,  4000] loss: 1.158\n",
            "[5,  5000] loss: 1.130\n",
            "[5,  6000] loss: 1.112\n",
            "[5,  7000] loss: 1.136\n",
            "[5,  8000] loss: 1.130\n",
            "[5,  9000] loss: 1.133\n",
            "[5, 10000] loss: 1.136\n",
            "[5, 11000] loss: 1.119\n",
            "[5, 12000] loss: 1.127\n",
            "[6,  1000] loss: 1.082\n",
            "[6,  2000] loss: 1.054\n",
            "[6,  3000] loss: 1.088\n",
            "[6,  4000] loss: 1.067\n",
            "[6,  5000] loss: 1.101\n",
            "[6,  6000] loss: 1.074\n",
            "[6,  7000] loss: 1.064\n",
            "[6,  8000] loss: 1.072\n",
            "[6,  9000] loss: 1.061\n",
            "[6, 10000] loss: 1.094\n",
            "[6, 11000] loss: 1.062\n",
            "[6, 12000] loss: 1.063\n",
            "[7,  1000] loss: 0.991\n",
            "[7,  2000] loss: 1.021\n",
            "[7,  3000] loss: 1.036\n",
            "[7,  4000] loss: 1.033\n",
            "[7,  5000] loss: 1.023\n",
            "[7,  6000] loss: 1.012\n",
            "[7,  7000] loss: 0.990\n",
            "[7,  8000] loss: 1.026\n",
            "[7,  9000] loss: 1.053\n",
            "[7, 10000] loss: 1.007\n",
            "[7, 11000] loss: 1.017\n",
            "[7, 12000] loss: 1.009\n",
            "[8,  1000] loss: 0.963\n",
            "[8,  2000] loss: 0.972\n",
            "[8,  3000] loss: 0.948\n",
            "[8,  4000] loss: 0.982\n",
            "[8,  5000] loss: 0.962\n",
            "[8,  6000] loss: 0.927\n",
            "[8,  7000] loss: 0.967\n",
            "[8,  8000] loss: 0.992\n",
            "[8,  9000] loss: 0.980\n",
            "[8, 10000] loss: 0.976\n",
            "[8, 11000] loss: 0.989\n",
            "[8, 12000] loss: 0.954\n",
            "[9,  1000] loss: 0.936\n",
            "[9,  2000] loss: 0.935\n",
            "[9,  3000] loss: 0.899\n",
            "[9,  4000] loss: 0.908\n",
            "[9,  5000] loss: 0.915\n",
            "[9,  6000] loss: 0.949\n",
            "[9,  7000] loss: 0.925\n",
            "[9,  8000] loss: 0.902\n",
            "[9,  9000] loss: 0.883\n",
            "[9, 10000] loss: 0.896\n",
            "[9, 11000] loss: 0.898\n",
            "[9, 12000] loss: 0.930\n",
            "[10,  1000] loss: 0.843\n",
            "[10,  2000] loss: 0.867\n",
            "[10,  3000] loss: 0.882\n",
            "[10,  4000] loss: 0.849\n",
            "[10,  5000] loss: 0.883\n",
            "[10,  6000] loss: 0.891\n",
            "[10,  7000] loss: 0.878\n",
            "[10,  8000] loss: 0.858\n",
            "[10,  9000] loss: 0.878\n",
            "[10, 10000] loss: 0.846\n",
            "[10, 11000] loss: 0.884\n",
            "[10, 12000] loss: 0.902\n",
            "Finished Training\n"
          ]
        }
      ],
      "source": [
        "for epoch in range(10):  # 데이터셋을 10차례 반복하여 학습\n",
        "\n",
        "    running_loss = 0.0\n",
        "    for i, data in enumerate(trainloader, 0):\n",
        "        # 입력을 받은 후\n",
        "        inputs, labels = data\n",
        "        # 변화도(Gradient) 매개변수를 0으로 만든 후\n",
        "        optimizer.zero_grad()\n",
        "\n",
        "        # 순전파 + 역전파 + 최적화\n",
        "        outputs = net(inputs)\n",
        "        loss = criterion(outputs, labels)\n",
        "        loss.backward()\n",
        "        optimizer.step()\n",
        "\n",
        "        # 통계 출력\n",
        "\n",
        "        running_loss += loss.item()\n",
        "        # 1000개의 data를 학습할 때마다 loss 출력\n",
        "        if i % 1000 == 999:\n",
        "            print('[%d, %5d] loss: %.3f' % (epoch + 1, i + 1, running_loss / 1000))\n",
        "            running_loss = 0.0\n",
        "\n",
        "print('Finished Training')"
      ]
    },
    {
      "cell_type": "code",
      "source": [
        "dataiter = iter(testloader)\n",
        "images, labels = dataiter.__next__()\n",
        "\n",
        "# print images\n",
        "imshow(torchvision.utils.make_grid(images))\n",
        "print('GroundTruth: ', ' '.join('%5s' % classes[labels[j]] for j in range(4)))\n",
        "plt.show()"
      ],
      "metadata": {
        "colab": {
          "base_uri": "https://localhost:8080/",
          "height": 211
        },
        "id": "rNF7TthMfA37",
        "outputId": "e0647ebe-476f-419f-9c74-aa561c6c5e10"
      },
      "execution_count": 12,
      "outputs": [
        {
          "output_type": "stream",
          "name": "stdout",
          "text": [
            "GroundTruth:    cat  ship  ship plane\n"
          ]
        },
        {
          "output_type": "display_data",
          "data": {
            "text/plain": [
              "<Figure size 640x480 with 1 Axes>"
            ],
            "image/png": "[encoded data removed]"
          },
          "metadata": {}
        }
      ]
    },
    {
      "cell_type": "code",
      "source": [
        "outputs = net(images)\n",
        "_, predicted = torch.max(outputs, 1)\n",
        "\n",
        "print('Predicted: ', ' '.join('%5s' % classes[predicted[j]]\n",
        "                              for j in range(4)))"
      ],
      "metadata": {
        "colab": {
          "base_uri": "https://localhost:8080/"
        },
        "id": "NJqS91M8hYv1",
        "outputId": "c7819c34-89e3-4601-80e2-d0a81754959c"
      },
      "execution_count": 13,
      "outputs": [
        {
          "output_type": "stream",
          "name": "stdout",
          "text": [
            "Predicted:    cat   car   car plane\n"
          ]
        }
      ]
    },
    {
      "cell_type": "code",
      "source": [
        "correct = 0\n",
        "total = 0\n",
        "with torch.no_grad():\n",
        "    for data in testloader:\n",
        "        images, labels = data\n",
        "        outputs = net(images)\n",
        "        _, predicted = torch.max(outputs.data, 1)\n",
        "        total += labels.size(0)\n",
        "        correct += (predicted == labels).sum().item()\n",
        "\n",
        "print('Accuracy of the network on the 10000 test images: %d %%' % (\n",
        "    100 * correct / total))"
      ],
      "metadata": {
        "colab": {
          "base_uri": "https://localhost:8080/"
        },
        "id": "wKItpc_2heNT",
        "outputId": "6c5b0c68-7b78-4fad-e4bb-97a3688a3f2d"
      },
      "execution_count": 14,
      "outputs": [
        {
          "output_type": "stream",
          "name": "stdout",
          "text": [
            "Accuracy of the network on the 10000 test images: 64 %\n"
          ]
        }
      ]
    },
    {
      "cell_type": "code",
      "source": [
        "class_correct = list(0. for i in range(10))\n",
        "class_total = list(0. for i in range(10))\n",
        "with torch.no_grad():\n",
        "    for data in testloader:\n",
        "        images, labels = data\n",
        "        outputs = net(images)\n",
        "        _, predicted = torch.max(outputs, 1)\n",
        "        c = (predicted == labels).squeeze()\n",
        "        for i in range(4):\n",
        "            label = labels[i]\n",
        "            class_correct[label] += c[i].item()\n",
        "            class_total[label] += 1\n",
        "\n",
        "\n",
        "for i in range(10):\n",
        "    print('Accuracy of %5s : %2d %%' % (\n",
        "        classes[i], 100 * class_correct[i] / class_total[i]))"
      ],
      "metadata": {
        "colab": {
          "base_uri": "https://localhost:8080/"
        },
        "id": "2VD2MZ91hkk1",
        "outputId": "5a47f0ed-14af-4486-c3ca-7057e346f428"
      },
      "execution_count": 15,
      "outputs": [
        {
          "output_type": "stream",
          "name": "stdout",
          "text": [
            "Accuracy of plane : 74 %\n",
            "Accuracy of   car : 83 %\n",
            "Accuracy of  bird : 50 %\n",
            "Accuracy of   cat : 39 %\n",
            "Accuracy of  deer : 52 %\n",
            "Accuracy of   dog : 60 %\n",
            "Accuracy of  frog : 74 %\n",
            "Accuracy of horse : 67 %\n",
            "Accuracy of  ship : 73 %\n",
            "Accuracy of truck : 65 %\n"
          ]
        }
      ]
    },
    {
      "cell_type": "markdown",
      "source": [
        "출처: https://m.blog.naver.com/ckdgus1433/221406102936의 튜토리얼을 참고하였습니다!"
      ],
      "metadata": {
        "id": "FXdtUROHSU4_"
      }
    },
    {
      "cell_type": "code",
      "source": [],
      "metadata": {
        "id": "BQl-BQnKSUlu"
      },
      "execution_count": null,
      "outputs": []
    },
    {
      "cell_type": "markdown",
      "source": [
        "#과제"
      ],
      "metadata": {
        "id": "SXfXZ7HorjRI"
      }
    },
    {
      "cell_type": "markdown",
      "source": [
        "##1. 실습 파일의 overfitting model의 optimizer, epoch, learning rate 등을 변경하여 실행한 결과와, underfitting의 layer를 2개 이상 추가하여 실행한 결과를 각각 캡처하여 overfit, underfit이라는 이름으로 깃허브에 제출하기.  <br> <br>\n",
        "##2. 과제 파일을 수정하여 Test image에 대한 accuracy를 55% 이상으로 높이고, 모델의 결과에 대한 캡처본과 파일을 모두 깃허브에 제출하기. <br>\n",
        "Hint: 파일 중간중간에 설명이 있는 부분을 참고하시면 아마 될 겁니다!<br>\n",
        "(layer 추가, optimizer 변경, learning rate 조정 등...) <br>\n",
        "##3. MLP model과 기존 ML model의 차이점을 최소 2가지 측면에서 서술하기. <br>\n",
        "답1: ML model은 특성 추출과 모델의 학습을 분리하여 수행하는 한편, MLP model은 여러 개의 은닉층을 포함하는 신경망 구조로써 은닉층에서 데이터로부터 특성을 추출하고 비선형 관계를 학습하며 역전파 알고리즘으로 모델의 가중치를 업데이트하여 학습한다.\n",
        "\n",
        "답2: ML model은 상대적으로 적은 양의 데이터로도 일정 수준의 성능을 보이는 반면 MLP model은 대량의 데이터에서 의미있는 패턴을 학습하는 데 강점을 보인다."
      ],
      "metadata": {
        "id": "PxXa62w5rmyq"
      }
    }
  ],
  "metadata": {
    "accelerator": "GPU",
    "colab": {
      "provenance": [],
      "gpuType": "T4"
    },
    "kernelspec": {
      "display_name": "Python 3",
      "name": "python3"
    },
    "language_info": {
      "name": "python"
    }
  },
  "nbformat": 4,
  "nbformat_minor": 0
}